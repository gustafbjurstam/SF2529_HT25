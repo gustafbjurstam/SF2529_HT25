{
 "cells": [
  {
   "cell_type": "markdown",
   "metadata": {},
   "source": [
    "# Introduction to the ODL tomography interface\n",
    "In this lab we will perform our first tomographic reconstruction. The problem involves reconstructing a given 2D image from its sinogram, obtained with the forward operator given by parallel ray transforms across sufficiently many angles to fully sample the discretized space. "
   ]
  },
  {
   "cell_type": "markdown",
   "metadata": {},
   "source": [
    "1. First, define the function space. Our function will be defined in $L_2([-2, 2]^2)$ over the reals. Use the function ``odl.uniform_discr`` to create a discretized space of real functions in two variables, i.e., images.\n",
    "\n",
    "2. Define the unit disk indicator function (i.e., $x^2 + y^2 \\leq 1$) using a Python callable and turn it into an element of the space. This can be a bit tricky since you cannot use ``if`` in your function, but it may help to know that ``True`` equals one in Python.\n",
    "\n",
    "3. Use the method ``show`` to visualize the function. Since our space is two-dimensional, this will not plot a function graph, but interpret a space element as grey-scale image. \n",
    "\n",
    "4. Next we set up the tomography interface. For the parallel-beam geometry, use the function [odl.tomo.parallel_beam_geometry](http://odlgroup.github.io/odl/generated/odl.tomo.geometry.parallel.parallel_beam_geometry.html), which automatically sets the angles and parallel beam distances in order to fully sample the discretized function.\n",
    "\n",
    "5. Now we can form the discretized forward operator (i.e., the measurement matrix) by using [odl.tomo.RayTransform](http://odlgroup.github.io/odl/generated/odl.tomo.operators.ray_trafo.RayTransform.html) with the space and the geometry.\n",
    "\n",
    "6. Create the sinogram by applying the operator to the image and display it with the ``show`` method. Since this sinogram is analytically tractable for the corresponding undiscretized problem, verify that your solution is correct.\n",
    "\n",
    "7. Add some [Gaussian noise](https://odlgroup.github.io/odl/generated/odl.phantom.noise.white_noise.html) to your sinogram (which lives in the space ``Operator.range``) and compare with the original sinogram.\n",
    "\n",
    "8. Next, try to use the adjoint of the operator to backproject the noisy sinogram, e.g., with ``Operator.adjoint``. Compare with the original image.\n",
    "\n",
    "9. The filtered backprojection for the operator can be obtained with [odl.tomo.fbp_op](http://odlgroup.github.io/odl/generated/odl.tomo.analytic.filtered_back_projection.fbp_op.html). Try different filter types. Compare with the original image.\n",
    "\n",
    "10. Play around with this example. Change the number of angles by setting the ``num_angles`` parameter when defining the geometry, use a different geometry, use a different image like the [Shepp–Logan phantom](http://odlgroup.github.io/odl/generated/odl.phantom.transmission.shepp_logan.html) etc. Observe the characteristic shape of the artifacts!"
   ]
  },
  {
   "cell_type": "code",
   "execution_count": 1,
   "metadata": {},
   "outputs": [],
   "source": [
    "import odl\n",
    "import numpy as np\n",
    "import matplotlib.pyplot as plt"
   ]
  }
 ],
 "metadata": {
  "kernelspec": {
   "display_name": "odl-testing",
   "language": "python",
   "name": "python3"
  },
  "language_info": {
   "codemirror_mode": {
    "name": "ipython",
    "version": 3
   },
   "file_extension": ".py",
   "mimetype": "text/x-python",
   "name": "python",
   "nbconvert_exporter": "python",
   "pygments_lexer": "ipython3",
   "version": "3.10.15"
  }
 },
 "nbformat": 4,
 "nbformat_minor": 2
}
