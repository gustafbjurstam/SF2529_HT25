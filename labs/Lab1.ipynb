{
 "cells": [
  {
   "cell_type": "markdown",
   "metadata": {},
   "source": [
    "# Introduction to ODL, function spaces and functions\n",
    "With this problem sheet you should familiarize yourself with ODL’s concept of spaces of discretized functions. For now, we try to deal with an extremely simple inverse problem, namely to numerically calculate the derivative of a real function.\n",
    "\n",
    "To load all the ODL stuff, we have to import ODL, which is luckily preinstalled in this environment. (You can ignore the warning which will pop up.)"
   ]
  },
  {
   "cell_type": "code",
   "execution_count": 1,
   "metadata": {},
   "outputs": [],
   "source": [
    "import odl\n",
    "import numpy as np\n",
    "import matplotlib.pyplot as plt"
   ]
  },
  {
   "cell_type": "markdown",
   "metadata": {},
   "source": [
    "In the sequel, you should do the following:\n",
    "\n",
    "1. Define a space of functions on the closed interval $[0, 1]$ with some choice of discretization (i.e., you should be able to choose the number of supporting points). Use the function [odl.uniform_discr](https://odlgroup.github.io/odl/generated/odl.discr.discr_space.uniform_discr.html).\n",
    "\n",
    "2. Define a nice function in this space (e.g. take $f(x) = x^3/3$ or $f(x) = \\cos x$. Use the [element method](https://odlgroup.github.io/odl/generated/odl.discr.discr_space.DiscretizedSpace.element.html#odl.discr.discr_space.DiscretizedSpace.element) of your space on an appropriate Python ``Callable``, e.g., np.sin, which automatically gives you the discretized function. \n",
    "\n",
    "3. Write down the derivative of this function and define it as another element in the space for comparison. (This should be exactly what you expect a derivative operator to return.)\n",
    "\n",
    "4. Add some [Gaussian noise](https://odlgroup.github.io/odl/generated/odl.phantom.noise.white_noise.html) to the original function.\n",
    "\n",
    "5. Use the [show method](https://odlgroup.github.io/odl/generated/odl.discr.discr_space.DiscretizedSpaceElement.show.html#odl.discr.discr_space.DiscretizedSpaceElement.show) for all functions you defined so far to check that your definitions are correct.\n",
    "\n",
    "6. Create the [gradient](https://odlgroup.github.io/odl/generated/odl.discr.diff_ops.Gradient.html) operator in the space, and apply it to the noised function to calculate the derivative. Hint: To create an ODL operator, you must specify its domain space (and range space, if these are different). It is also possible to set numerical scheme parameters, e.g., forward or backward differentiation, for gradient operators (try playing around with these). Once created, the operator can be applied to any element in the domain space, e.g., ``Operator(Element)``.\n",
    "\n",
    "7. Have a look at the calculated derivative and plot the difference with the exact solution.\n",
    "\n",
    "Test different levels of noise and discretizations and compare your results. (You can apply different numpy functions like mean or max to space elements to quantify the error.)\n",
    "\n",
    "Hint: If you get a message from matplotlib: Use ``plt.close('all')`` to close all the open figure windows. If you don’t see a picture with the ``show`` method, use the parameter ``force_show=True``."
   ]
  },
  {
   "cell_type": "code",
   "execution_count": null,
   "metadata": {},
   "outputs": [],
   "source": []
  }
 ],
 "metadata": {
  "kernelspec": {
   "display_name": "odl-testing",
   "language": "python",
   "name": "python3"
  },
  "language_info": {
   "codemirror_mode": {
    "name": "ipython",
    "version": 3
   },
   "file_extension": ".py",
   "mimetype": "text/x-python",
   "name": "python",
   "nbconvert_exporter": "python",
   "pygments_lexer": "ipython3",
   "version": "3.10.15"
  }
 },
 "nbformat": 4,
 "nbformat_minor": 2
}
