{
 "cells": [
  {
   "cell_type": "markdown",
   "metadata": {},
   "source": [
    "# Tikhonov regularization, the conjugate gradient method and the L-curve\n",
    "Consider the problem from lab 3. Another approach that can avoid the effects of semi-convergence is to solve instead of the least-squares problem\n",
    "$$ \\min_{\\alpha} \\frac{1}{2} \\| A \\alpha - g \\|^2 $$\n",
    "the regularized problem\n",
    "$$ \\min_{\\alpha} \\frac{1}{2} \\| A \\alpha - g \\|^2 + \\frac{\\lambda}{2} \\| \\alpha \\|^2 $$\n",
    "with a regularization parameter $\\lambda > 0$. It turns out that for a suitably chosen parameter $\\lambda$ (depending on the noise level and the problem) the exact solution of the regularized problem (here with [Tikhonov regularization](https://en.wikipedia.org/wiki/Tikhonov_regularization)) is often a more accurate reconstruction than a solution of the unregularized problem (though there are typically better regularization alternatives). The optimality condition now reads $0 = A^* (A \\alpha - g) + \\lambda \\alpha$. For the reconstruction problem described in lab 3, find a regularized solution for some choice of $\\lambda$ using the conjugate gradient method and plot the relative error. Then, try to find a good choice of the parameter $\\lambda$ with the L-curve method - can be found in Müller&Siltanen. For the L-curve you should not do a full reconstruction for each $\\lambda$, but only a few iterations to save time. Compare with the Landweber solution.\n",
    "\n",
    "Some hints:\n",
    "\n",
    "* As in lab 3, if you do not have a GPU, or if you have not installed astra-toolbox, then this lab must be done in two dimensions.\n",
    "\n",
    "* You can form the [identity operator](https://odlgroup.github.io/odl/generated/odl.operator.default_ops.IdentityOperator.html) of a space and add a scaled version of it to another operator, in order to implement Tikhonov regularization.\n",
    "\n",
    "* There are many [algorithmic solvers](https://odlgroup.github.io/odl/odl.solvers.html) available in ODL, including the [conjugate gradient](https://odlgroup.github.io/odl/generated/odl.solvers.iterative.iterative.conjugate_gradient.html) method, for which you need to make your operator self-adjoint."
   ]
  },
  {
   "cell_type": "code",
   "execution_count": 101,
   "metadata": {},
   "outputs": [],
   "source": [
    "import odl\n",
    "import numpy as np\n",
    "import matplotlib.pyplot as plt"
   ]
  }
 ],
 "metadata": {
  "kernelspec": {
   "display_name": "odl-testing",
   "language": "python",
   "name": "python3"
  },
  "language_info": {
   "codemirror_mode": {
    "name": "ipython",
    "version": 3
   },
   "file_extension": ".py",
   "mimetype": "text/x-python",
   "name": "python",
   "nbconvert_exporter": "python",
   "pygments_lexer": "ipython3",
   "version": "3.10.15"
  }
 },
 "nbformat": 4,
 "nbformat_minor": 2
}
