{
 "cells": [
  {
   "cell_type": "markdown",
   "metadata": {},
   "source": [
    "# Landweber iteration and discrepancy principle\n",
    "In this lab, you should solve a three-dimensional tomography problem with the Landweber method. Have a look at the lecture slides to see how these things work. Here are some general hints:\n",
    "\n",
    "* Start by choosing an appropriate discretized space and initialize it with odl.\n",
    "\n",
    "* Create a three-dimensional [Shepp–Logan phantom](https://odlgroup.github.io/odl/generated/odl.phantom.transmission.shepp_logan.html) in the space, starting with $32 \\times 32 \\times 32$ resolution for testing. Make sure that the images are centered at the origin. \n",
    "\n",
    "* Form the forward operator for the ray transform using a [cone beam geometry](http://odlgroup.github.io/odl/generated/odl.tomo.geometry.conebeam.cone_beam_geometry.html#odl.tomo.geometry.conebeam.cone_beam_geometry) with a small number $(~10)$ of angles, otherwise you will not see the effects of semi-convergence. \n",
    "\n",
    "* Apply the operator to the phantom to obtain the sinogram, and add some noise to the sinogram (which lives in ``Operator.range``). \n",
    "\n",
    "* You get the norm of a vector with its [norm method](https://odlgroup.github.io/odl/generated/odl.discr.discr_space.DiscretizedSpaceElement.norm.html#odl.discr.discr_space.DiscretizedSpaceElement.norm). For the discrepancy in the Landweber method, you will need the noise level $\\| g - g_{\\mathrm{noisy}}\\|$ of the sinogram $g$. (In real applications you must estimate the noise level, but let us keep this example simple.)\n",
    "\n",
    "* Get the adjoint of the forward operator, e.g., ``Operator.adjoint``.\n",
    "\n",
    "* You can obtain an estimate of the largest singular value of the forward operator with its [norm method](http://odlgroup.github.io/odl/generated/odl.operator.operator.Operator.norm.html). (Note that this is operator norm, which may need to be estimated if it is not directly available in odl).\n",
    "\n",
    "* Implement Landweber and employ $\\sim 200$ iterations to obtain a solution for the noisy sinogram, starting with the [zero vector](https://odlgroup.github.io/odl/generated/odl.discr.discr_space.DiscretizedSpace.zero.html#odl.discr.discr_space.DiscretizedSpace.zero) of the space.\n",
    "\n",
    "* Log the relevant norms between iterations and check if the discrepancy criterion is satisfied (but do not stop the iteration).\n",
    "\n",
    "* Plot the relative error of your reconstruction depending on the number of iterations, and see what the discrepancy criterion would give you."
   ]
  },
  {
   "cell_type": "code",
   "execution_count": null,
   "metadata": {},
   "outputs": [],
   "source": [
    "import odl\n",
    "import numpy as np\n",
    "import matplotlib.pyplot as plt"
   ]
  }
 ],
 "metadata": {
  "kernelspec": {
   "display_name": "odl-testing",
   "language": "python",
   "name": "python3"
  },
  "language_info": {
   "codemirror_mode": {
    "name": "ipython",
    "version": 3
   },
   "file_extension": ".py",
   "mimetype": "text/x-python",
   "name": "python",
   "nbconvert_exporter": "python",
   "pygments_lexer": "ipython3",
   "version": "3.10.15"
  }
 },
 "nbformat": 4,
 "nbformat_minor": 2
}
