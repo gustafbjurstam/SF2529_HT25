{
 "cells": [
  {
   "cell_type": "code",
   "execution_count": 6,
   "id": "40c84691",
   "metadata": {},
   "outputs": [],
   "source": [
    "# Graph the array as gífs\n",
    "import numpy as np\n",
    "import matplotlib.pyplot as plt\n",
    "from matplotlib.animation import FuncAnimation, PillowWriter"
   ]
  },
  {
   "cell_type": "code",
   "execution_count": 7,
   "id": "4ab059ed",
   "metadata": {},
   "outputs": [
    {
     "name": "stdout",
     "output_type": "stream",
     "text": [
      "Shape of x:  (128, 128, 128)\n"
     ]
    }
   ],
   "source": [
    "x = np.load(\"x_solved.npy\")\n",
    "\n",
    "shape = x.shape\n",
    "print(\"Shape of x: \", shape)"
   ]
  },
  {
   "cell_type": "code",
   "execution_count": null,
   "id": "b28918ed",
   "metadata": {},
   "outputs": [],
   "source": [
    "# ---- helpers ----\n",
    "def slice_window(z, lo=1, hi=99):\n",
    "    vmin, vmax = np.percentile(z, (lo, hi))\n",
    "    if vmax <= vmin:\n",
    "        vmax = vmin + 1e-9\n",
    "    return float(vmin), float(vmax)\n",
    "\n",
    "def make_slice_anim(x, axis, outfile, fps=5, lo=1, hi=99, *,\n",
    "                    scale=2.0, dpi=200, interpolation=\"nearest\"):\n",
    "    \"\"\"\n",
    "    axis: 0, 1, or 2  -> vary i, j, or k respectively\n",
    "    scale: multiplies figure size (≈ pixel dimensions of the GIF)\n",
    "    dpi: figure DPI (controls absolute pixel count with figsize)\n",
    "    interpolation: 'nearest' (crisp) or 'bilinear' (smoother)\n",
    "    \"\"\"\n",
    "    nframes = x.shape[axis]\n",
    "    lab = [\"i\", \"j\", \"k\"][axis]\n",
    "\n",
    "    if axis == 0:\n",
    "        get = lambda idx: x[idx, :, :]\n",
    "    elif axis == 1:\n",
    "        get = lambda idx: x[:, idx, :]\n",
    "    else:\n",
    "        get = lambda idx: x[:, :, idx]\n",
    "\n",
    "    z0 = get(0)\n",
    "    vmin0, vmax0 = slice_window(z0, lo=lo, hi=hi)\n",
    "\n",
    "    # Base square figure; scale > 1 upsizes the output\n",
    "    base_size = 5.0  # inches; arbitrary, only relative to dpi\n",
    "    fig, ax = plt.subplots(figsize=(base_size*scale, base_size*scale), dpi=dpi)\n",
    "    ax.set_axis_off()\n",
    "\n",
    "    im = ax.imshow(z0, cmap=\"bone\", vmin=vmin0, vmax=vmax0,\n",
    "                   animated=False, interpolation=interpolation)\n",
    "    cb = fig.colorbar(im, ax=ax, fraction=0.046, pad=0.04)\n",
    "    cb.set_label(\"Intensity\")\n",
    "\n",
    "    txt = ax.text(5, 5, f\"{lab} = 0\", color=\"w\", fontsize=10*scale)\n",
    "\n",
    "    def update(idx):\n",
    "        z = get(idx)\n",
    "        vmin, vmax = slice_window(z, lo=lo, hi=hi)\n",
    "        im.set_data(z)\n",
    "        im.set_clim(vmin=vmin, vmax=vmax)\n",
    "        cb.update_normal(im)\n",
    "        txt.set_text(f\"{lab} = {idx}\")\n",
    "        return im, txt, cb.ax\n",
    "\n",
    "    ani = FuncAnimation(fig, update, frames=nframes, interval=50, blit=False, repeat=True)\n",
    "    ani.save(outfile, writer=PillowWriter(fps=fps))\n",
    "    plt.close(fig)\n",
    "\n",
    "# ---- build all three animations (2× upscaled) ----\n",
    "make_slice_anim(x, axis=0, outfile=\"slices_1.gif\", fps=5, scale=2.0, interpolation=\"nearest\")\n",
    "make_slice_anim(x, axis=1, outfile=\"slices_2.gif\", fps=5, scale=2.0, interpolation=\"nearest\")\n",
    "make_slice_anim(x, axis=2, outfile=\"slices_3.gif\", fps=5, scale=2.0, interpolation=\"nearest\")\n"
   ]
  }
 ],
 "metadata": {
  "kernelspec": {
   "display_name": "sf2529-ht25 (3.12.3)",
   "language": "python",
   "name": "python3"
  },
  "language_info": {
   "codemirror_mode": {
    "name": "ipython",
    "version": 3
   },
   "file_extension": ".py",
   "mimetype": "text/x-python",
   "name": "python",
   "nbconvert_exporter": "python",
   "pygments_lexer": "ipython3",
   "version": "3.12.3"
  }
 },
 "nbformat": 4,
 "nbformat_minor": 5
}
