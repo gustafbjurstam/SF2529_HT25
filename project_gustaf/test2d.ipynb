{
 "cells": [
  {
   "cell_type": "code",
   "execution_count": null,
   "id": "786204dd",
   "metadata": {},
   "outputs": [],
   "source": [
    "\n",
    "import numpy as np\n",
    "import matplotlib.pyplot as plt\n",
    "import odl\n",
    "from odl.contrib import tomo\n",
    "\n",
    "space = odl.uniform_discr([-112,-112],[112,112], 128)\n",
    "\n",
    "phant = phant = odl.phantom.transmission.shepp_logan(space, modified = False)\n",
    "phant.show()\n",
    "\n",
    "max_it = 5000\n",
    " \n"
   ]
  },
  {
   "cell_type": "code",
   "execution_count": null,
   "id": "09811483",
   "metadata": {},
   "outputs": [],
   "source": [
    "# Construct operator\n",
    "\n",
    "geo = odl.tomo.cone_beam_geometry(space,780, 220, num_angles=128, short_scan=True)\n",
    "\n",
    "A = odl.tomo.operators.ray_trafo.RayTransform(space, geo, impl='astra_cuda')\n",
    "\n",
    "y = A(phant)\n",
    "y.show()\n",
    "\n",
    "print(\"Suppressor\")"
   ]
  },
  {
   "cell_type": "code",
   "execution_count": null,
   "id": "0f75b98e",
   "metadata": {},
   "outputs": [],
   "source": [
    "# Make noisy data\n",
    "\n",
    "gaussian = odl.phantom.noise.white_noise(A.range, stddev=0.005)\n",
    "y_n = y + gaussian * y.norm() / (100 * gaussian.norm())\n",
    "\n",
    "y_n.show()\n",
    "\n",
    "print(\"Suppressor\")"
   ]
  },
  {
   "cell_type": "code",
   "execution_count": null,
   "id": "ccd5cbf6",
   "metadata": {},
   "outputs": [],
   "source": [
    "# Construct Huber functional\n",
    "\n",
    "# Construct gradient\n",
    "x_grad = odl.discr.diff_ops.Gradient(space)\n",
    "\n",
    "eps = 0.1\n",
    "alpha = 0.1\n",
    "\n",
    "huber_functional = odl.solvers.functional.default_functionals.Huber(x_grad.range, gamma = eps)\n",
    "\n",
    "# Combine into variational model\n",
    "\n",
    "norm_y =  odl.solvers.functional.default_functionals.L2Norm(A.range) \n",
    "norm_y2 =  odl.solvers.functional.default_functionals.L2NormSquared(A.range) \n",
    "\n",
    "data_fidel = norm_y2.translated(y_n)*A\n",
    "\n",
    "\n",
    "var_model = 0.5 * odl.solvers.FunctionalProduct(data_fidel,data_fidel) + alpha * huber_functional*x_grad"
   ]
  },
  {
   "cell_type": "code",
   "execution_count": null,
   "id": "15052202",
   "metadata": {},
   "outputs": [],
   "source": [
    "# Minimize variational model using, what?\n",
    "\n",
    "x = space.zero()\n",
    "odl.solvers.smooth.gradient.adam(var_model, x, maxiter=max_it)"
   ]
  },
  {
   "cell_type": "code",
   "execution_count": null,
   "id": "9bedcfa3",
   "metadata": {},
   "outputs": [],
   "source": [
    "x.show()\n",
    "\n",
    "print(\"Relative difference to true  y: \", (A(x)- y).norm()/y.norm())\n",
    "print(\"Relative difference to noisy y: \", (A(x)- y_n).norm()/y.norm())\n",
    "print(\"Relative difference in x: \", (x-phant).norm()/phant.norm())"
   ]
  },
  {
   "cell_type": "code",
   "execution_count": null,
   "id": "74ddd61e",
   "metadata": {},
   "outputs": [],
   "source": [
    "# Looper trying different eps, rough search\n",
    "\n",
    "eps_list = 2**np.linspace(-5,0,8)\n",
    "x_grad = odl.discr.diff_ops.Gradient(space)\n",
    "\n",
    "alpha = 100\n",
    "\n",
    "norm_y =  odl.solvers.functional.default_functionals.L2Norm(A.range) \n",
    "\n",
    "data_fidel = norm_y.translated(y_n)*A\n",
    "\n",
    "y_bad = []\n",
    "x_bad = []\n",
    "x_norm = []\n",
    "\n",
    "for eps in eps_list:\n",
    "    huber_functional = odl.solvers.functional.default_functionals.Huber(x_grad.range, gamma = eps)\n",
    "\n",
    "    # Combine into variational model\n",
    "    var_model = 0.5 * odl.solvers.FunctionalProduct(data_fidel,data_fidel) + alpha * huber_functional*x_grad\n",
    "\n",
    "    # Minimize variational model using, what?\n",
    "    x = space.zero()\n",
    "    odl.solvers.smooth.gradient.adam(var_model, x, maxiter=max_it)\n",
    "    y_bad.append((A(x)- y).norm()/y.norm())\n",
    "    x_bad.append((x-phant).norm()/phant.norm())\n",
    "    x_norm.append(x.norm())\n",
    "\n",
    "\n"
   ]
  },
  {
   "cell_type": "code",
   "execution_count": null,
   "id": "184bd55f",
   "metadata": {},
   "outputs": [],
   "source": [
    "plt.figure()\n",
    "plt.loglog(y_bad,x_norm)\n",
    "plt.show()\n",
    "\n",
    "plt.figure()\n",
    "plt.semilogy(eps_list,y_bad)\n",
    "plt.show()\n",
    "\n",
    "plt.figure()\n",
    "plt.semilogy(eps_list,x_bad)\n",
    "plt.show()\n",
    "\n",
    "eps_min = eps_list[np.argmin(y_bad)]\n",
    "print(\"Best with eps = \", eps_min)"
   ]
  },
  {
   "cell_type": "code",
   "execution_count": null,
   "id": "0ac69515",
   "metadata": {},
   "outputs": [],
   "source": [
    "eps_range = np.linspace(eps_min,eps_min*4, 8)\n",
    "\n",
    "# Fine search\n",
    "\n",
    "y_bad = []\n",
    "x_bad = []\n",
    "x_norm = []\n",
    "\n",
    "for eps in eps_range:\n",
    "    huber_functional = odl.solvers.functional.default_functionals.Huber(x_grad.range, gamma = eps)\n",
    "\n",
    "    # Combine into variational model\n",
    "    var_model = 0.5 * odl.solvers.FunctionalProduct(data_fidel,data_fidel) + alpha * huber_functional*x_grad\n",
    "\n",
    "    # Minimize variational model using, what?\n",
    "    x = space.zero()\n",
    "    odl.solvers.smooth.gradient.adam(var_model, x, maxiter=max_it)\n",
    "    y_bad.append((A(x)- y).norm()/y.norm())\n",
    "    x_bad.append((x-phant).norm()/phant.norm())\n",
    "    x_norm.append(x.norm())\n",
    "\n"
   ]
  },
  {
   "cell_type": "code",
   "execution_count": null,
   "id": "70f01ee4",
   "metadata": {},
   "outputs": [],
   "source": [
    "eps_min = eps_range[np.argmin(y_bad)]\n",
    "print(\"Best with eps = \", eps_min)"
   ]
  },
  {
   "cell_type": "code",
   "execution_count": null,
   "id": "414493df",
   "metadata": {},
   "outputs": [],
   "source": [
    "plt.figure()\n",
    "plt.loglog(y_bad,x_norm)\n",
    "plt.show()\n",
    "\n",
    "plt.figure()\n",
    "plt.semilogy(eps_range,y_bad)\n",
    "plt.show()\n",
    "\n",
    "plt.figure()\n",
    "plt.semilogy(eps_range,x_bad)\n",
    "plt.show()"
   ]
  },
  {
   "cell_type": "code",
   "execution_count": null,
   "id": "3f28cf40",
   "metadata": {},
   "outputs": [],
   "source": [
    "eps = eps_min\n",
    "# Lets search for lambda as well\n",
    "huber_functional = odl.solvers.functional.default_functionals.Huber(x_grad.range, gamma = eps)\n",
    "\n",
    "alp_list = 2**(np.linspace(3,10,10))\n",
    "\n",
    "y_bad = []\n",
    "x_bad = []\n",
    "x_norm = []\n",
    "\n",
    "for alpha in alp_list:\n",
    "\n",
    "    # Combine into variational model\n",
    "    var_model = 0.5 * odl.solvers.FunctionalProduct(data_fidel,data_fidel) + alpha * huber_functional*x_grad\n",
    "\n",
    "    # Minimize variational model using, what?\n",
    "    x = space.zero()\n",
    "    odl.solvers.smooth.gradient.adam(var_model, x, maxiter=max_it)\n",
    "    y_bad.append((A(x)- y).norm()/y.norm())\n",
    "    x_bad.append((x-phant).norm()/phant.norm())\n",
    "    x_norm.append(x.norm())"
   ]
  },
  {
   "cell_type": "code",
   "execution_count": null,
   "id": "991e6d99",
   "metadata": {},
   "outputs": [],
   "source": [
    "plt.figure()\n",
    "plt.loglog(y_bad,x_norm)\n",
    "plt.show()\n",
    "\n",
    "plt.figure()\n",
    "plt.semilogy(alp_list,y_bad)\n",
    "plt.show()\n",
    "\n",
    "plt.figure()\n",
    "plt.semilogy(alp_list,x_bad)\n",
    "plt.show()\n",
    "\n",
    "alp_min = alp_list[np.argmin(y_bad)]\n",
    "print(\"Best with alpha = \", alp_min)"
   ]
  },
  {
   "cell_type": "code",
   "execution_count": null,
   "id": "50fe15b1",
   "metadata": {},
   "outputs": [],
   "source": [
    "# Fine search for alpa\n",
    "\n",
    "alp_list = np.linspace(alp_min/2, alp_min*2,10)\n",
    "\n",
    "y_bad = []\n",
    "x_bad = []\n",
    "x_norm = []\n",
    "\n",
    "for alpha in alp_list:\n",
    "\n",
    "    # Combine into variational model\n",
    "    var_model = 0.5 * odl.solvers.FunctionalProduct(data_fidel,data_fidel) + alpha * huber_functional*x_grad\n",
    "\n",
    "    # Minimize variational model using, what?\n",
    "    x = space.zero()\n",
    "    odl.solvers.smooth.gradient.adam(var_model, x, maxiter=max_it)\n",
    "    y_bad.append((A(x)- y).norm()/y.norm())\n",
    "    x_bad.append((x-phant).norm()/phant.norm())\n",
    "    x_norm.append(x.norm())"
   ]
  },
  {
   "cell_type": "code",
   "execution_count": null,
   "id": "d35e6fb5",
   "metadata": {},
   "outputs": [],
   "source": [
    "plt.figure()\n",
    "plt.loglog(y_bad,x_norm)\n",
    "plt.show()\n",
    "\n",
    "plt.figure()\n",
    "plt.semilogy(alp_list,y_bad)\n",
    "plt.show()\n",
    "\n",
    "plt.figure()\n",
    "plt.semilogy(alp_list,x_bad)\n",
    "plt.show()\n",
    "\n",
    "alp_min = alp_list[np.argmin(y_bad)]\n",
    "print(\"Best with alpha = \", alp_min)"
   ]
  },
  {
   "cell_type": "code",
   "execution_count": null,
   "id": "abfa0dfc",
   "metadata": {},
   "outputs": [],
   "source": [
    "# New search on eps\n",
    "\n",
    "alpha = 146.3\n",
    "eps_range = np.linspace(0.15*0.05,0.15*1.05, 10)\n",
    "\n",
    "y_bad = []\n",
    "x_bad = []\n",
    "x_norm = []\n",
    "\n",
    "for eps in eps_range:\n",
    "    huber_functional = odl.solvers.functional.default_functionals.Huber(x_grad.range, gamma = eps)\n",
    "\n",
    "    # Combine into variational model\n",
    "    var_model = 0.5 * odl.solvers.FunctionalProduct(data_fidel,data_fidel) + alpha * huber_functional*x_grad\n",
    "\n",
    "    # Minimize variational model using, what?\n",
    "    x = space.zero()\n",
    "    odl.solvers.smooth.gradient.adam(var_model, x, maxiter=max_it)\n",
    "    y_bad.append((A(x)- y).norm()/y.norm())\n",
    "    x_bad.append((x-phant).norm()/phant.norm())\n",
    "    x_norm.append(x.norm())\n"
   ]
  },
  {
   "cell_type": "code",
   "execution_count": null,
   "id": "d7f03d5b",
   "metadata": {},
   "outputs": [],
   "source": [
    "eps_min = eps_range[np.argmin(y_bad)]\n",
    "print(\"Best with eps = \", eps_min)"
   ]
  },
  {
   "cell_type": "code",
   "execution_count": null,
   "id": "7cdc3ec9",
   "metadata": {},
   "outputs": [],
   "source": [
    "plt.figure()\n",
    "plt.semilogy(eps_range,y_bad)\n",
    "plt.show()\n",
    "\n",
    "plt.figure()\n",
    "plt.semilogy(eps_range,x_bad)\n",
    "plt.show()"
   ]
  },
  {
   "cell_type": "code",
   "execution_count": null,
   "id": "59ee0c15",
   "metadata": {},
   "outputs": [],
   "source": [
    "# final search allpha/lambda\n",
    "\n",
    "eps = eps_min\n",
    "huber_functional = odl.solvers.functional.default_functionals.Huber(x_grad.range, gamma = eps)\n",
    "\n",
    "alp_list = np.linspace(alp_min*0.5,alp_min*5,10)\n",
    "\n",
    "y_bad = []\n",
    "x_bad = []\n",
    "x_norm = []\n",
    "\n",
    "for alpha in alp_list:\n",
    "\n",
    "    # Combine into variational model\n",
    "    var_model = 0.5 * odl.solvers.FunctionalProduct(data_fidel,data_fidel) + alpha * huber_functional*x_grad\n",
    "\n",
    "    # Minimize variational model using, what?\n",
    "    x = space.zero()\n",
    "    odl.solvers.smooth.gradient.adam(var_model, x, maxiter=max_it)\n",
    "    y_bad.append((A(x)- y).norm()/y.norm())\n",
    "    x_bad.append((x-phant).norm()/phant.norm())\n",
    "    x_norm.append(x.norm())"
   ]
  },
  {
   "cell_type": "code",
   "execution_count": null,
   "id": "d66e5ee5",
   "metadata": {},
   "outputs": [],
   "source": [
    "plt.figure()\n",
    "plt.semilogy(alp_list,y_bad)\n",
    "plt.show()\n",
    "\n",
    "plt.figure()\n",
    "plt.semilogy(alp_list,x_bad)\n",
    "plt.show()\n",
    "\n",
    "alp_min = alp_list[np.argmin(y_bad)]\n",
    "print(\"Best with alpha = \", alp_min)"
   ]
  },
  {
   "cell_type": "code",
   "execution_count": null,
   "id": "e3d8c28e",
   "metadata": {},
   "outputs": [],
   "source": [
    "# Final reconstruction\n",
    "\n",
    "alpha = alp_min \n",
    "eps = eps_min\n",
    "\n",
    "huber_functional = odl.solvers.functional.default_functionals.Huber(x_grad.range, gamma = eps)\n",
    "\n",
    "var_model = 0.5 * odl.solvers.FunctionalProduct(data_fidel,data_fidel) + alpha * huber_functional*x_grad\n",
    "\n",
    "x = space.zero()\n",
    "odl.solvers.smooth.gradient.adam(var_model, x, maxiter = 20000)"
   ]
  },
  {
   "cell_type": "code",
   "execution_count": null,
   "id": "6caa5188",
   "metadata": {},
   "outputs": [],
   "source": [
    "x.show()\n",
    "\n",
    "print(\"Relative difference to true  y: \", (A(x)- y).norm()/y.norm())\n",
    "print(\"Relative difference to noisy y: \", (A(x)- y_n).norm()/y.norm())\n",
    "print(\"Relative difference in x: \", (x-phant).norm()/phant.norm())\n",
    "\n"
   ]
  },
  {
   "cell_type": "code",
   "execution_count": null,
   "id": "46a5f9ee",
   "metadata": {},
   "outputs": [],
   "source": [
    "alpha = alp_min \n",
    "eps = 0.01\n",
    "\n",
    "huber_functional = odl.solvers.functional.default_functionals.Huber(x_grad.range, gamma = eps)\n",
    "\n",
    "var_model = 0.5 * odl.solvers.FunctionalProduct(data_fidel,data_fidel) + alpha * huber_functional*x_grad\n",
    "\n",
    "x = space.zero()\n",
    "odl.solvers.smooth.gradient.adam(var_model, x, maxiter = 20000)"
   ]
  },
  {
   "cell_type": "code",
   "execution_count": null,
   "id": "c9b5a10f",
   "metadata": {},
   "outputs": [],
   "source": [
    "x.show()\n",
    "\n",
    "print(\"Relative difference to true  y: \", (A(x)- y).norm()/y.norm())\n",
    "print(\"Relative difference to noisy y: \", (A(x)- y_n).norm()/y.norm())\n",
    "print(\"Relative difference in x: \", (x-phant).norm()/phant.norm())"
   ]
  },
  {
   "cell_type": "code",
   "execution_count": null,
   "id": "101024cb",
   "metadata": {},
   "outputs": [],
   "source": [
    "alpha = alp_min\n",
    "eps = 0.0005\n",
    "\n",
    "huber_functional = odl.solvers.functional.default_functionals.Huber(x_grad.range, gamma = eps)\n",
    "\n",
    "var_model = 0.5 * odl.solvers.FunctionalProduct(data_fidel,data_fidel) + alpha * huber_functional*x_grad\n",
    "\n",
    "x = space.zero()\n",
    "odl.solvers.smooth.gradient.adam(var_model, x, maxiter = 20000)"
   ]
  },
  {
   "cell_type": "code",
   "execution_count": null,
   "id": "8d14201c",
   "metadata": {},
   "outputs": [],
   "source": [
    "x.show()\n",
    "\n",
    "print(\"Relative difference to true  y: \", (A(x)- y).norm()/y.norm())\n",
    "print(\"Relative difference to noisy y: \", (A(x)- y_n).norm()/y.norm())\n",
    "print(\"Relative difference in x: \", (x-phant).norm()/phant.norm())"
   ]
  },
  {
   "cell_type": "code",
   "execution_count": null,
   "id": "db0d4ab7",
   "metadata": {},
   "outputs": [],
   "source": [
    "print(alpha)"
   ]
  }
 ],
 "metadata": {
  "kernelspec": {
   "display_name": "sf2529-ht25 (3.12.3)",
   "language": "python",
   "name": "python3"
  },
  "language_info": {
   "codemirror_mode": {
    "name": "ipython",
    "version": 3
   },
   "file_extension": ".py",
   "mimetype": "text/x-python",
   "name": "python",
   "nbconvert_exporter": "python",
   "pygments_lexer": "ipython3",
   "version": "3.12.3"
  }
 },
 "nbformat": 4,
 "nbformat_minor": 5
}
